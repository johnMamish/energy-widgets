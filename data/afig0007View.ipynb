{
 "cells": [
  {
   "cell_type": "code",
   "execution_count": 18,
   "metadata": {},
   "outputs": [],
   "source": [
    "import PyQt5\n",
    "import numpy as np\n",
    "import matplotlib.pyplot as plt\n",
    "import pandas\n",
    "\n",
    "data100mV = pandas.read_csv(\"~/projects/power_harvest_buttons/100mV.csv\", usecols=[1]).to_numpy()[9:].reshape(9998).astype(np.float)\n",
    "data200mV = pandas.read_csv(\"~/projects/power_harvest_buttons/200mV.csv\", usecols=[1]).to_numpy()[9:].reshape(9998).astype(np.float)\n",
    "data500mV = pandas.read_csv(\"~/projects/power_harvest_buttons/500mV.csv\", usecols=[1]).to_numpy()[9:].reshape(9998).astype(np.float)\n",
    "data1000mV = pandas.read_csv(\"~/projects/power_harvest_buttons/1000mV.csv\", usecols=[1]).to_numpy()[9:].reshape(9998).astype(np.float)\n",
    "data1500mV = pandas.read_csv(\"~/projects/power_harvest_buttons/1500mV.csv\", usecols=[1]).to_numpy()[9:].reshape(9998).astype(np.float)\n",
    "data2000mV = pandas.read_csv(\"~/projects/power_harvest_buttons/2000mV.csv\", usecols=[1]).to_numpy()[9:].reshape(9998).astype(np.float)\n",
    "data2500mV = pandas.read_csv(\"~/projects/power_harvest_buttons/2500mV.csv\", usecols=[1]).to_numpy()[9:].reshape(9998).astype(np.float)\n",
    "data3000mV = pandas.read_csv(\"~/projects/power_harvest_buttons/3000mV.csv\", usecols=[1]).to_numpy()[9:].reshape(9998).astype(np.float)\n",
    "data3500mV = pandas.read_csv(\"~/projects/power_harvest_buttons/3500mV.csv\", usecols=[1]).to_numpy()[9:].reshape(9998).astype(np.float)\n",
    "\n",
    "centers = [6616, 9503, 6091, 5049, 6047, 3286, 9317, 6276, 1725]"
   ]
  },
  {
   "cell_type": "code",
   "execution_count": 17,
   "metadata": {},
   "outputs": [],
   "source": [
    "plt.plot(data1500mV)\n",
    "plt.show()"
   ]
  },
  {
   "cell_type": "code",
   "execution_count": 28,
   "metadata": {},
   "outputs": [],
   "source": [
    "plt.plot(data100mV[centers[0]-30:centers[0]+30])\n",
    "plt.plot(data200mV[centers[1]-30:centers[1]+30])\n",
    "plt.plot(data500mV[centers[2]-30:centers[2]+30])\n",
    "plt.plot(data1000mV[centers[3]-30:centers[3]+30])\n",
    "plt.plot(data1500mV[centers[4]-30:centers[4]+30])\n",
    "plt.plot(data2000mV[centers[5]-30:centers[5]+30])\n",
    "plt.plot(data2500mV[centers[6]-30:centers[6]+30])\n",
    "plt.plot(data3000mV[centers[7]-30:centers[7]+30])\n",
    "plt.plot(data3500mV[centers[8]-30:centers[8]+30])\n",
    "plt.legend(['100mV', '200mV', '500mV', '1000mV', '1500mV', '2000mV', '2500mV', '3000mV', '3500mV'], loc='lower right')\n",
    "for xc in np.arange(0, 60, (2.5)):\n",
    "    plt.axvline(x=xc, color=[0.7, 0.7, 0.7, 0.5])"
   ]
  }
 ],
 "metadata": {
  "kernelspec": {
   "display_name": "Python 3",
   "language": "python",
   "name": "python3"
  },
  "language_info": {
   "codemirror_mode": {
    "name": "ipython",
    "version": 3
   },
   "file_extension": ".py",
   "mimetype": "text/x-python",
   "name": "python",
   "nbconvert_exporter": "python",
   "pygments_lexer": "ipython3",
   "version": "3.6.8"
  }
 },
 "nbformat": 4,
 "nbformat_minor": 2
}
